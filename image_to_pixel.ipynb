{
 "cells": [
  {
   "cell_type": "markdown",
   "id": "316a7aac-e4fb-46ef-b329-f56ad8083364",
   "metadata": {},
   "source": [
    "Representation of the pixel values of an image to visualize visually in an Excel file. The program is done by using Python libraries such as PIL for image processing and openpyxl for Excel manipulation, with Excel cells filled with colors such that the pixels values carried out. The resulting Excel file demonstrates how computers perceive, interpret and store images, as well as how computer transform images into pixels and represent pixels in graphics."
   ]
  },
  {
   "cell_type": "code",
   "execution_count": 6,
   "id": "4b66b30f-5f2a-4c9e-b4c7-2212e601c2bd",
   "metadata": {},
   "outputs": [
    {
     "name": "stdout",
     "output_type": "stream",
     "text": [
      "Collecting openpyxl\n",
      "  Downloading openpyxl-3.1.5-py2.py3-none-any.whl.metadata (2.5 kB)\n",
      "Collecting et-xmlfile (from openpyxl)\n",
      "  Downloading et_xmlfile-2.0.0-py3-none-any.whl.metadata (2.7 kB)\n",
      "Downloading openpyxl-3.1.5-py2.py3-none-any.whl (250 kB)\n",
      "   ---------------------------------------- 0.0/250.9 kB ? eta -:--:--\n",
      "   ---------------------------------------- 0.0/250.9 kB ? eta -:--:--\n",
      "   - -------------------------------------- 10.2/250.9 kB ? eta -:--:--\n",
      "   --------- ----------------------------- 61.4/250.9 kB 656.4 kB/s eta 0:00:01\n",
      "   ---------------------------------------- 250.9/250.9 kB 1.9 MB/s eta 0:00:00\n",
      "Downloading et_xmlfile-2.0.0-py3-none-any.whl (18 kB)\n",
      "Installing collected packages: et-xmlfile, openpyxl\n",
      "Successfully installed et-xmlfile-2.0.0 openpyxl-3.1.5\n"
     ]
    }
   ],
   "source": [
    "\n",
    "!pip install openpyxl\n",
    "\n",
    "from PIL import Image\n",
    "import openpyxl\n",
    "from openpyxl.styles import PatternFill"
   ]
  },
  {
   "cell_type": "code",
   "execution_count": 19,
   "id": "e48a0e3f-ade9-4738-b941-1d2457947e36",
   "metadata": {},
   "outputs": [],
   "source": [
    "# Load the image\n",
    "image_path = 'data/cat.JFIF' \n",
    "image = Image.open(image_path)\n",
    "image = image.convert('L')  # Convert to grayscale"
   ]
  },
  {
   "cell_type": "code",
   "execution_count": 20,
   "id": "7660dc9d-7fa9-4b28-b2cc-7f92d61529ee",
   "metadata": {},
   "outputs": [
    {
     "name": "stdout",
     "output_type": "stream",
     "text": [
      "Pixel data has been saved to data/Grayscale_Pixels.xlsx\n"
     ]
    }
   ],
   "source": [
    "# Resize the image\n",
    "new_width, new_height = 64, 128 \n",
    "image = image.resize((new_width, new_height))\n",
    "\n",
    "# Get pixel data\n",
    "pixels = list(image.getdata())\n",
    "width, height = image.size\n",
    "\n",
    "# Create a new Excel workbook and select the active worksheet\n",
    "wb = openpyxl.Workbook()\n",
    "ws = wb.active\n",
    "\n",
    "# Fill the Excel sheet with grayscale values and apply coloring\n",
    "for y in range(height):\n",
    "    for x in range(width):\n",
    "        gray = pixels[y * width + x]\n",
    "        cell = ws.cell(row=y + 1, column=x + 1)\n",
    "        cell.value = gray\n",
    "        hex_value = f'{gray:02X}'\n",
    "        fill = PatternFill(start_color=hex_value * 3, end_color=hex_value * 3, fill_type=\"solid\")\n",
    "        cell.fill = fill\n",
    "\n",
    "# Save the workbook\n",
    "excel_path = 'data/Grayscale_Pixels.xlsx'\n",
    "wb.save(excel_path)\n",
    "\n",
    "print(f'Pixel data has been saved to {excel_path}')"
   ]
  },
  {
   "cell_type": "markdown",
   "id": "79978e8e-3ba7-4793-bead-72dbd5303e0c",
   "metadata": {},
   "source": [
    "Color Image"
   ]
  },
  {
   "cell_type": "code",
   "execution_count": 21,
   "id": "e243bfad-cbf4-445e-995d-e8288ab4c707",
   "metadata": {},
   "outputs": [
    {
     "name": "stdout",
     "output_type": "stream",
     "text": [
      "Pixel data has been saved to data/Color_Pixels.xlsx\n"
     ]
    }
   ],
   "source": [
    "from PIL import Image\n",
    "import openpyxl\n",
    "from openpyxl.styles import PatternFill\n",
    "\n",
    "# Load the image\n",
    "image_path = 'data/cat.JFIF'\n",
    "image = Image.open(image_path)\n",
    "image = image.convert('RGB')\n",
    "\n",
    "# Resize the image\n",
    "new_width, new_height = 64, 128\n",
    "image = image.resize((new_width, new_height))\n",
    "\n",
    "# Get pixel data\n",
    "pixels = list(image.getdata())\n",
    "width, height = image.size\n",
    "\n",
    "# Create a new Excel workbook and select the active worksheet\n",
    "wb = openpyxl.Workbook()\n",
    "ws = wb.active\n",
    "\n",
    "# Fill the Excel sheet with RGB values and apply coloring\n",
    "for y in range(height):\n",
    "    for x in range(width):\n",
    "        r, g, b = pixels[y * width + x]\n",
    "        cell = ws.cell(row=y + 1, column=x + 1)\n",
    "        cell.value = f'{r},{g},{b}'\n",
    "        fill = PatternFill(start_color=f'{r:02X}{g:02X}{b:02X}', end_color=f'{r:02X}{g:02X}{b:02X}', fill_type=\"solid\")\n",
    "        cell.fill = fill\n",
    "\n",
    "# Save the workbook\n",
    "excel_path = 'data/Color_Pixels.xlsx'\n",
    "wb.save(excel_path)\n",
    "\n",
    "print(f'Pixel data has been saved to {excel_path}')"
   ]
  },
  {
   "cell_type": "markdown",
   "id": "50908f50-8b1e-480e-9aa4-d5f030366c79",
   "metadata": {},
   "source": [
    "Red only"
   ]
  },
  {
   "cell_type": "code",
   "execution_count": 23,
   "id": "dbb23321-1361-41d6-a4f4-3a13a3999456",
   "metadata": {},
   "outputs": [
    {
     "name": "stdout",
     "output_type": "stream",
     "text": [
      "Pixel data has been saved to data/Cat_Red_Channel_Pixels.xlsx\n"
     ]
    }
   ],
   "source": [
    "from PIL import Image\n",
    "import openpyxl\n",
    "from openpyxl.styles import PatternFill\n",
    "\n",
    "# Load the image\n",
    "image_path = 'data/cat.JFIF'\n",
    "image = Image.open(image_path)\n",
    "image = image.convert('RGB')\n",
    "\n",
    "# Resize the image\n",
    "new_width, new_height = 64, 128\n",
    "image = image.resize((new_width, new_height))\n",
    "\n",
    "# Get pixel data\n",
    "pixels = list(image.getdata())\n",
    "width, height = image.size\n",
    "\n",
    "# Create a new Excel workbook and select the active worksheet\n",
    "wb = openpyxl.Workbook()\n",
    "ws = wb.active\n",
    "\n",
    "# Fill the Excel sheet with Red channel values and apply coloring\n",
    "for y in range(height):\n",
    "    for x in range(width):\n",
    "        r, g, b = pixels[y * width + x]\n",
    "        cell = ws.cell(row=y + 1, column=x + 1)\n",
    "        cell.value = f'{r}'\n",
    "        fill = PatternFill(start_color=f'{r:02X}0000', end_color=f'{r:02X}0000', fill_type=\"solid\")\n",
    "        cell.fill = fill\n",
    "\n",
    "# Save the workbook\n",
    "excel_path = 'data/Cat_Red_Channel_Pixels.xlsx'\n",
    "wb.save(excel_path)\n",
    "\n",
    "print(f'Pixel data has been saved to {excel_path}')"
   ]
  },
  {
   "cell_type": "markdown",
   "id": "cd91faa6-2b18-4765-997f-69e7b2b5211d",
   "metadata": {},
   "source": [
    "Green only"
   ]
  },
  {
   "cell_type": "code",
   "execution_count": 24,
   "id": "4e1b2914-3a5c-454e-89d9-242bde63e0cd",
   "metadata": {},
   "outputs": [
    {
     "name": "stdout",
     "output_type": "stream",
     "text": [
      "Pixel data has been saved to data/Cat_Green_Channel_Pixels.xlsx\n"
     ]
    }
   ],
   "source": [
    "from PIL import Image\n",
    "import openpyxl\n",
    "from openpyxl.styles import PatternFill\n",
    "\n",
    "# Load the image\n",
    "image_path = 'data/cat.JFIF'\n",
    "image = Image.open(image_path)\n",
    "image = image.convert('RGB')\n",
    "\n",
    "# Resize the image\n",
    "new_width, new_height = 64, 128\n",
    "image = image.resize((new_width, new_height))\n",
    "\n",
    "# Get pixel data\n",
    "pixels = list(image.getdata())\n",
    "width, height = image.size\n",
    "\n",
    "# Create a new Excel workbook and select the active worksheet\n",
    "wb = openpyxl.Workbook()\n",
    "ws = wb.active\n",
    "\n",
    "# Fill the Excel sheet with Green channel values and apply coloring\n",
    "for y in range(height):\n",
    "    for x in range(width):\n",
    "        r, g, b = pixels[y * width + x]\n",
    "        cell = ws.cell(row=y + 1, column=x + 1)\n",
    "        cell.value = f'{g}'\n",
    "        fill = PatternFill(start_color=f'00{g:02X}00', end_color=f'00{g:02X}00', fill_type=\"solid\")\n",
    "        cell.fill = fill\n",
    "\n",
    "# Save the workbook\n",
    "excel_path = 'data/Cat_Green_Channel_Pixels.xlsx'\n",
    "wb.save(excel_path)\n",
    "\n",
    "print(f'Pixel data has been saved to {excel_path}')"
   ]
  },
  {
   "cell_type": "markdown",
   "id": "5d789ef3-acc1-49ec-9583-b0e0431db7b0",
   "metadata": {},
   "source": [
    "Blue channel"
   ]
  },
  {
   "cell_type": "code",
   "execution_count": 26,
   "id": "6a67c27a-eaba-4dbf-80ca-3a47374fcb3b",
   "metadata": {},
   "outputs": [
    {
     "name": "stdout",
     "output_type": "stream",
     "text": [
      "Pixel data has been saved to data/Cat_Blue_Channel_Pixels.xlsx\n"
     ]
    }
   ],
   "source": [
    "from PIL import Image\n",
    "import openpyxl\n",
    "from openpyxl.styles import PatternFill\n",
    "\n",
    "# Load the image\n",
    "image_path = 'data/cat.JFIF'\n",
    "image = Image.open(image_path)\n",
    "image = image.convert('RGB')\n",
    "\n",
    "# Resize the image\n",
    "new_width, new_height = 64, 128\n",
    "image = image.resize((new_width, new_height))\n",
    "\n",
    "# Get pixel data\n",
    "pixels = list(image.getdata())\n",
    "width, height = image.size\n",
    "\n",
    "# Create a new Excel workbook and select the active worksheet\n",
    "wb = openpyxl.Workbook()\n",
    "ws = wb.active\n",
    "\n",
    "# Fill the Excel sheet with Blue channel values and apply coloring\n",
    "for y in range(height):\n",
    "    for x in range(width):\n",
    "        r, g, b = pixels[y * width + x]\n",
    "        cell = ws.cell(row=y + 1, column=x + 1)\n",
    "        cell.value = f'{b}'\n",
    "        fill = PatternFill(start_color=f'0000{b:02X}', end_color=f'0000{b:02X}', fill_type=\"solid\")\n",
    "        cell.fill = fill\n",
    "\n",
    "# Save the workbook\n",
    "excel_path = 'data/Cat_Blue_Channel_Pixels.xlsx'\n",
    "wb.save(excel_path)\n",
    "\n",
    "print(f'Pixel data has been saved to {excel_path}')"
   ]
  },
  {
   "cell_type": "code",
   "execution_count": null,
   "id": "9aa35226-d24c-456b-a0b9-9bb31776b3f8",
   "metadata": {},
   "outputs": [],
   "source": []
  }
 ],
 "metadata": {
  "kernelspec": {
   "display_name": "Python 3 (ipykernel)",
   "language": "python",
   "name": "python3"
  },
  "language_info": {
   "codemirror_mode": {
    "name": "ipython",
    "version": 3
   },
   "file_extension": ".py",
   "mimetype": "text/x-python",
   "name": "python",
   "nbconvert_exporter": "python",
   "pygments_lexer": "ipython3",
   "version": "3.11.7"
  }
 },
 "nbformat": 4,
 "nbformat_minor": 5
}
